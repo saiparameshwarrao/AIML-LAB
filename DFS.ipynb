{
 "cells": [
  {
   "cell_type": "code",
   "execution_count": 1,
   "metadata": {},
   "outputs": [
    {
     "name": "stdout",
     "output_type": "stream",
     "text": [
      "The starting node is D \n",
      "D\n",
      "A\n",
      "G\n",
      "H\n",
      "E\n",
      "F\n",
      "C\n"
     ]
    }
   ],
   "source": [
    "visited = set()\n",
    "\n",
    "def dfs(visited,graph,root):\n",
    "    if root not in visited:\n",
    "        print(root)\n",
    "        visited.add(root)\n",
    "        for neighbour in graph[root]:\n",
    "            dfs(visited, graph, neighbour)\n",
    "\n",
    "\n",
    "graph = {\n",
    "    'A' : ['G','D','C'],\n",
    "    'C' : ['F','D','A'],\n",
    "    'D' : ['A','G','C','H','E'],\n",
    "    'E' : ['F','D','H'],\n",
    "    'F' : ['E','C'],\n",
    "    'G' : ['A','D','H'],\n",
    "    'H' : ['E','D','G'],\n",
    "}\n",
    "print(\"The starting node is D \")\n",
    "dfs(visited,graph,'D')"
   ]
  }
 ],
 "metadata": {
  "kernelspec": {
   "display_name": "Python 3",
   "language": "python",
   "name": "python3"
  },
  "language_info": {
   "codemirror_mode": {
    "name": "ipython",
    "version": 3
   },
   "file_extension": ".py",
   "mimetype": "text/x-python",
   "name": "python",
   "nbconvert_exporter": "python",
   "pygments_lexer": "ipython3",
   "version": "3.10.13"
  }
 },
 "nbformat": 4,
 "nbformat_minor": 2
}
