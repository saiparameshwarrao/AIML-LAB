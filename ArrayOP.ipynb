{
 "cells": [
  {
   "cell_type": "code",
   "execution_count": 1,
   "metadata": {},
   "outputs": [
    {
     "name": "stdout",
     "output_type": "stream",
     "text": [
      "\n",
      "Addition\n",
      "[ 3  7  6 12  7]\n",
      "\n",
      "Multiply\n",
      "[ 2 10  9 32 10]\n",
      "\n",
      "Divide\n",
      "[0.5 0.4 1.  0.5 2.5]\n",
      "\n",
      "Poweroff\n",
      "[    1    32    27 65536    25]\n"
     ]
    }
   ],
   "source": [
    "import numpy as np\n",
    "\n",
    "arr1 = np.array([1,2,3,4,5])\n",
    "arr2 = np.array([2,5,3,8,2])\n",
    "\n",
    "print(\"\\nAddition\")\n",
    "print(arr1 + arr2)\n",
    "print(\"\\nMultiply\")\n",
    "print(arr1 * arr2)\n",
    "print(\"\\nDivide\")\n",
    "print(arr1 / arr2)\n",
    "print(\"\\nPoweroff\")\n",
    "print(arr1 ** arr2)"
   ]
  }
 ],
 "metadata": {
  "kernelspec": {
   "display_name": "Python 3",
   "language": "python",
   "name": "python3"
  },
  "language_info": {
   "codemirror_mode": {
    "name": "ipython",
    "version": 3
   },
   "file_extension": ".py",
   "mimetype": "text/x-python",
   "name": "python",
   "nbconvert_exporter": "python",
   "pygments_lexer": "ipython3",
   "version": "3.10.13"
  }
 },
 "nbformat": 4,
 "nbformat_minor": 2
}
