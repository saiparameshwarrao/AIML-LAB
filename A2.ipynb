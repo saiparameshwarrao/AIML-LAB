{
 "cells": [
  {
   "cell_type": "code",
   "execution_count": null,
   "metadata": {},
   "outputs": [],
   "source": [
    "#BFS\n",
    "\n",
    "import collections\n",
    "\n",
    "def bfs(graph,root):\n",
    "     visited = set()\n",
    "     queue = collections.deque([root])\n",
    "     \n",
    "     while queue:\n",
    "         vertex = queue.popleft()\n",
    "         visited.add(vertex)\n",
    "         for i in graph[vertex]:\n",
    "             if i not in visited:\n",
    "                 queue.append(i)\n",
    "     print(visited)\n",
    "\n",
    "graph = {\n",
    "    '0' : ['1', '2', '3'],\n",
    "    '1' : ['0', '2'],\n",
    "    '2' : ['0', '1', '5', '3'],\n",
    "    '3' : ['0', '2', '4'],\n",
    "    '4' : ['7', '5', '3'],\n",
    "    '5' : ['7', '2', '6', '4'],\n",
    "    '6' : ['7', '5'],\n",
    "    '7' : ['6', '5', '4'] \n",
    "}\n",
    "bfs(graph,'0')"
   ]
  },
  {
   "cell_type": "code",
   "execution_count": null,
   "metadata": {},
   "outputs": [],
   "source": [
    "#DFS\n",
    "\n",
    "visited = set()\n",
    "\n",
    "def dfs(visited,graph,root):\n",
    "    if root not in visited:\n",
    "        print(root)\n",
    "        visited.add(root)\n",
    "        for neighbour in graph[root]:\n",
    "            dfs(visited, graph, neighbour)\n",
    "\n",
    "\n",
    "graph = {\n",
    "    'A' : ['G','D','C'],\n",
    "    'C' : ['F','D','A'],\n",
    "    'D' : ['A','G','C','H','E'],\n",
    "    'E' : ['F','D','H'],\n",
    "    'F' : ['E','C'],\n",
    "    'G' : ['A','D','H'],\n",
    "    'H' : ['E','D','G'],\n",
    "}\n",
    "dfs(visited,graph,'D')"
   ]
  }
 ],
 "metadata": {
  "language_info": {
   "name": "python"
  },
  "orig_nbformat": 4
 },
 "nbformat": 4,
 "nbformat_minor": 2
}
