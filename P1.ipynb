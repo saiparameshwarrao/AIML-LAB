{
 "cells": [
  {
   "cell_type": "code",
   "execution_count": 5,
   "metadata": {},
   "outputs": [
    {
     "name": "stdout",
     "output_type": "stream",
     "text": [
      "[2, 4, 10.5, True, 'hello world']\n",
      "\n",
      "1.Concatenation\n",
      "['Hello World', 1, 2, 3]\n",
      "\n",
      "2.Repetation\n",
      "['SR University', 'SR University', 'SR University']\n",
      "\n",
      "3.Membership\n",
      "True\n",
      "False\n",
      "\n",
      "4.Slicing\n",
      "[1, 'a', 'apple', 4, 2.5]\n",
      "['apple', 4]\n",
      "['!', 2.5, 4, 'apple', 'a', 1]\n"
     ]
    }
   ],
   "source": [
    "\n",
    "#Part 1 – Implement Basic Data Structures using Numpy, Pandas\n",
    "\n",
    "#1. List\n",
    "\n",
    "list = [2,4,10.5,True,\"hello world\"]\n",
    "print(list)\n",
    "\n",
    "#List Operations\n",
    "\n",
    "#1.Concatenation\n",
    "print(\"\\n1.Concatenation\")\n",
    "l1 = [\"Hello World\"]\n",
    "l2 = [1 , 2, 3]\n",
    "print(l1 + l2)\n",
    "\n",
    "#2.Repetation\n",
    "print(\"\\n2.Repetation\")\n",
    "l3 = [\"SR University\"]\n",
    "print(l3*3)\n",
    "\n",
    "#3.Membership\n",
    "print(\"\\n3.Membership\")\n",
    "l1 = [\"sru\",\"srit\",\"sriit\"]\n",
    "print(\"sru\" in l1)\n",
    "print(\"SRU\" in l1)\n",
    "\n",
    "#4.Slicing\n",
    "#[start:end:step]\n",
    "print(\"\\n4.Slicing\")\n",
    "list1 = [1,\"a\",\"apple\",4,2.5,\"!\"]\n",
    "print(list1[0:5])\n",
    "print(list1[2:4])\n",
    "print(list1[::-1]) #reverse \n"
   ]
  },
  {
   "cell_type": "code",
   "execution_count": 6,
   "metadata": {},
   "outputs": [
    {
     "name": "stdout",
     "output_type": "stream",
     "text": [
      "\n",
      "the matrix\n",
      "1 2 \n",
      "1 2 \n"
     ]
    }
   ],
   "source": [
    "#2. Array\n",
    "  \n",
    "r = int(input(\"Enter number of rows: \"))\n",
    "c = int(input(\"Enter number of columns: \"))\n",
    "m1 = []\n",
    "\n",
    "for i in range(r):\n",
    "    a = []\n",
    "    for i in range(c):\n",
    "        a.append(int(input(\"Enter element: \")))\n",
    "    m1.append(a)\n",
    "    \n",
    "print(\"\\nthe matrix\")\n",
    "for i in range(r):\n",
    "    for j in range(c):\n",
    "        print(m1[i][j],end=\" \")\n",
    "    print()\n",
    "    "
   ]
  },
  {
   "cell_type": "code",
   "execution_count": 8,
   "metadata": {},
   "outputs": [
    {
     "name": "stdout",
     "output_type": "stream",
     "text": [
      "<class 'int'>\n",
      "<class 'float'>\n",
      "<class 'bool'>\n",
      "<class 'dict'>\n",
      "<class 'str'>\n",
      "<class 'tuple'>\n"
     ]
    }
   ],
   "source": [
    "#3. Identify their type using type()\n",
    "\n",
    "\n",
    "\n",
    "a = 5\n",
    "print(type(a))\n",
    "\n",
    "b = 4.0\n",
    "print(type(b))\n",
    "\n",
    "c = True\n",
    "print(type(c))\n",
    "\n",
    "d = dict()\n",
    "print(type(d))\n",
    "\n",
    "e = \"hello world\"\n",
    "print(type(e))\n",
    "\n",
    "f = tuple()\n",
    "print(type(f))"
   ]
  },
  {
   "cell_type": "code",
   "execution_count": 9,
   "metadata": {},
   "outputs": [
    {
     "name": "stdout",
     "output_type": "stream",
     "text": [
      "\n",
      "Addition\n",
      "[ 3  7  6 12  7]\n",
      "\n",
      "Multiply\n",
      "[ 2 10  9 32 10]\n",
      "\n",
      "Divide\n",
      "[0.5 0.4 1.  0.5 2.5]\n",
      "\n",
      "Poweroff\n",
      "[    1    32    27 65536    25]\n"
     ]
    }
   ],
   "source": [
    "'''4. Perform mathematical operations on these \n",
    "datasets created - multiplication, division, poweroff'''\n",
    "\n",
    "import numpy as np\n",
    "\n",
    "arr1 = np.array([1,2,3,4,5])\n",
    "arr2 = np.array([2,5,3,8,2])\n",
    "\n",
    "print(\"\\nAddition\")\n",
    "print(arr1 + arr2)\n",
    "print(\"\\nMultiply\")\n",
    "print(arr1 * arr2)\n",
    "print(\"\\nDivide\")\n",
    "print(arr1 / arr2)\n",
    "print(\"\\nPoweroff\")\n",
    "print(arr1 ** arr2) \n"
   ]
  },
  {
   "cell_type": "code",
   "execution_count": 10,
   "metadata": {},
   "outputs": [
    {
     "name": "stdout",
     "output_type": "stream",
     "text": [
      "Addtion of Two : array + array2 \n",
      " [[5 7 9]\n",
      " [5 7 9]]\n"
     ]
    }
   ],
   "source": [
    "'''5. Combine text with Numpy fuction to generate a \n",
    "textual output - ”Addition of Two: array1 +array 2'''\n",
    "\n",
    "import numpy as np\n",
    "\n",
    "arr1 = np.array([[1,2,3],[4,5,6]])\n",
    "arr2 = np.array([[4,5,6],[1,2,3]])\n",
    "\n",
    "print(\"Addtion of Two : array + array2 \\n\", arr1+arr2)"
   ]
  },
  {
   "cell_type": "code",
   "execution_count": 11,
   "metadata": {},
   "outputs": [
    {
     "name": "stdout",
     "output_type": "stream",
     "text": [
      "sin(90 rad): 0.8939966636005579\n",
      "sin(90 deg): 1.0\n",
      "log(10): 2.302585092994046\n",
      "log2(4): 2.0\n",
      "exp(3): 20.085536923187668\n"
     ]
    }
   ],
   "source": [
    "# 6. Implement np.sin(), log(), log2(), np.exp())\n",
    "\n",
    "import numpy as np\n",
    "\n",
    "print(\"sin(90 rad):\",np.sin(90))\n",
    "print(\"sin(90 deg):\",np.sin(np.radians(90)))\n",
    "print(\"log(10):\",np.log(10))\n",
    "print(\"log2(4):\",np.log2(4))\n",
    "print(\"exp(3):\",np.exp(3)) "
   ]
  }
 ],
 "metadata": {
  "kernelspec": {
   "display_name": "Python 3",
   "language": "python",
   "name": "python3"
  },
  "language_info": {
   "codemirror_mode": {
    "name": "ipython",
    "version": 3
   },
   "file_extension": ".py",
   "mimetype": "text/x-python",
   "name": "python",
   "nbconvert_exporter": "python",
   "pygments_lexer": "ipython3",
   "version": "3.11.5"
  },
  "orig_nbformat": 4
 },
 "nbformat": 4,
 "nbformat_minor": 2
}
