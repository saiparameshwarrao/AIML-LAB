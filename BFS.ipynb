{
 "cells": [
  {
   "cell_type": "code",
   "execution_count": null,
   "metadata": {},
   "outputs": [],
   "source": [
    "import collections\n",
    "\n",
    "def bfs(graph,root):\n",
    "     visited = set()\n",
    "     queue = collections.deque([root])\n",
    "     \n",
    "     while queue:\n",
    "         vertex = queue.popleft()\n",
    "         visited.add(vertex)\n",
    "         for i in graph[vertex]:\n",
    "             if i not in visited:\n",
    "                 queue.append(i)\n",
    "     print(visited)\n",
    "\n",
    "graph = {\n",
    "    '0' : ['1', '2', '3'],\n",
    "    '1' : ['0', '2'],\n",
    "    '2' : ['0', '1', '5', '3'],\n",
    "    '3' : ['0', '2', '4'],\n",
    "    '4' : ['7', '5', '3'],\n",
    "    '5' : ['7', '2', '6', '4'],\n",
    "    '6' : ['7', '5'],\n",
    "    '7' : ['6', '5', '4'] \n",
    "}\n",
    "print(\"The starting node is 0\")\n",
    "bfs(graph,'0')"
   ]
  }
 ],
 "metadata": {
  "kernelspec": {
   "display_name": "Python 3",
   "language": "python",
   "name": "python3"
  },
  "language_info": {
   "codemirror_mode": {
    "name": "ipython",
    "version": 3
   },
   "file_extension": ".py",
   "mimetype": "text/x-python",
   "name": "python",
   "nbconvert_exporter": "python",
   "pygments_lexer": "ipython3",
   "version": "3.10.13"
  }
 },
 "nbformat": 4,
 "nbformat_minor": 2
}
